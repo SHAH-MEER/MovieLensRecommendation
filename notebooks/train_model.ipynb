{
 "cells": [
  {
   "cell_type": "markdown",
   "id": "7f0db0b9",
   "metadata": {},
   "source": [
    "# Movie Recommendation Model Training\n",
    "\n",
    "This notebook trains and saves the recommendation model using cross-validation with reconstruction error."
   ]
  },
  {
   "cell_type": "code",
   "execution_count": 6,
   "id": "ce1acabf",
   "metadata": {},
   "outputs": [],
   "source": [
    "import pandas as pd\n",
    "import numpy as np\n",
    "from sklearn.pipeline import Pipeline\n",
    "from sklearn.preprocessing import StandardScaler\n",
    "from sklearn.decomposition import TruncatedSVD\n",
    "from sklearn.metrics.pairwise import cosine_similarity\n",
    "import joblib\n",
    "import requests\n",
    "import io\n",
    "import zipfile\n",
    "from sklearn.model_selection import KFold"
   ]
  },
  {
   "cell_type": "code",
   "execution_count": 7,
   "id": "482d8238",
   "metadata": {},
   "outputs": [
    {
     "name": "stdout",
     "output_type": "stream",
     "text": [
      "Matrix shape: (610, 9724)\n"
     ]
    }
   ],
   "source": [
    "def load_movielens_data():\n",
    "    url = \"https://files.grouplens.org/datasets/movielens/ml-latest-small.zip\"\n",
    "    response = requests.get(url)\n",
    "    z = zipfile.ZipFile(io.BytesIO(response.content))\n",
    "    movies_df = pd.read_csv(z.open('ml-latest-small/movies.csv'))\n",
    "    ratings_df = pd.read_csv(z.open('ml-latest-small/ratings.csv'))\n",
    "    return movies_df, ratings_df\n",
    "\n",
    "movies_df, ratings_df = load_movielens_data()\n",
    "\n",
    "# Create user-movie matrix\n",
    "user_movie_matrix = ratings_df.pivot(\n",
    "    index='userId',\n",
    "    columns='movieId',\n",
    "    values='rating'\n",
    ").fillna(0)\n",
    "\n",
    "print(f\"Matrix shape: {user_movie_matrix.shape}\")"
   ]
  },
  {
   "cell_type": "code",
   "execution_count": 8,
   "id": "eadd76ab",
   "metadata": {},
   "outputs": [
    {
     "name": "stdout",
     "output_type": "stream",
     "text": [
      "n_components: 50, Mean Reconstruction Error: 0.16367975623311198\n",
      "n_components: 100, Mean Reconstruction Error: 0.1564271300953075\n",
      "n_components: 100, Mean Reconstruction Error: 0.1564271300953075\n",
      "n_components: 150, Mean Reconstruction Error: 0.1522642454458111\n",
      "\n",
      "Best n_components: 150\n",
      "Best reconstruction error: 0.1522642454458111\n",
      "n_components: 150, Mean Reconstruction Error: 0.1522642454458111\n",
      "\n",
      "Best n_components: 150\n",
      "Best reconstruction error: 0.1522642454458111\n"
     ]
    }
   ],
   "source": [
    "def compute_reconstruction_error(pipeline, X):\n",
    "    \"\"\"Compute reconstruction error for dimensionality reduction\"\"\"\n",
    "    X_transformed = pipeline.transform(X)\n",
    "    X_reconstructed = pipeline.inverse_transform(X_transformed)\n",
    "    return np.mean(np.square(X - X_reconstructed))\n",
    "\n",
    "# Parameter grid\n",
    "n_components_list = [50, 100, 150]\n",
    "best_error = float('inf')\n",
    "best_n_components = None\n",
    "\n",
    "# Cross validation\n",
    "kf = KFold(n_splits=5, shuffle=True, random_state=42)\n",
    "\n",
    "for n_components in n_components_list:\n",
    "    pipeline = Pipeline([\n",
    "        ('scaler', StandardScaler()),\n",
    "        ('svd', TruncatedSVD(n_components=n_components, random_state=42))\n",
    "    ])\n",
    "    \n",
    "    errors = []\n",
    "    for train_idx, val_idx in kf.split(user_movie_matrix):\n",
    "        X_train = user_movie_matrix.iloc[train_idx]\n",
    "        X_val = user_movie_matrix.iloc[val_idx]\n",
    "        \n",
    "        pipeline.fit(X_train)\n",
    "        error = compute_reconstruction_error(pipeline, X_val)\n",
    "        errors.append(error)\n",
    "    \n",
    "    mean_error = np.mean(errors)\n",
    "    print(f\"n_components: {n_components}, Mean Reconstruction Error: {mean_error}\")\n",
    "    \n",
    "    if mean_error < best_error:\n",
    "        best_error = mean_error\n",
    "        best_n_components = n_components\n",
    "\n",
    "print(f\"\\nBest n_components: {best_n_components}\")\n",
    "print(f\"Best reconstruction error: {best_error}\")"
   ]
  },
  {
   "cell_type": "code",
   "execution_count": 10,
   "id": "91537cb1",
   "metadata": {},
   "outputs": [
    {
     "name": "stdout",
     "output_type": "stream",
     "text": [
      "Model saved successfully!\n"
     ]
    }
   ],
   "source": [
    "# Get best model and compute similarity matrix\n",
    "best_model = grid_search.best_estimator_\n",
    "movie_features = best_model.transform(user_movie_matrix.T)\n",
    "movie_similarity = cosine_similarity(movie_features)\n",
    "\n",
    "# Save model and similarity matrix\n",
    "model_data = {\n",
    "    'model': best_model,\n",
    "    'similarity_matrix': pd.DataFrame(\n",
    "        movie_similarity,\n",
    "        index=user_movie_matrix.columns,\n",
    "        columns=user_movie_matrix.columns\n",
    "    ),\n",
    "    'best_params': grid_search.best_params_,\n",
    "    'best_score': grid_search.best_score_\n",
    "}\n",
    "\n",
    "joblib.dump(model_data, '../models/best_model.joblib')\n",
    "print(\"Model saved successfully!\")"
   ]
  },
  {
   "cell_type": "code",
   "execution_count": null,
   "id": "bfe1dd61",
   "metadata": {},
   "outputs": [],
   "source": []
  }
 ],
 "metadata": {
  "kernelspec": {
   "display_name": "base",
   "language": "python",
   "name": "python3"
  },
  "language_info": {
   "codemirror_mode": {
    "name": "ipython",
    "version": 3
   },
   "file_extension": ".py",
   "mimetype": "text/x-python",
   "name": "python",
   "nbconvert_exporter": "python",
   "pygments_lexer": "ipython3",
   "version": "3.12.7"
  }
 },
 "nbformat": 4,
 "nbformat_minor": 5
}
